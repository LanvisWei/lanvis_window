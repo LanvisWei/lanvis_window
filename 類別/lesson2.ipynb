{
 "cells": [
  {
   "cell_type": "code",
   "execution_count": 43,
   "metadata": {},
   "outputs": [
    {
     "name": "stdout",
     "output_type": "stream",
     "text": [
      "<class '__main__.Person'>\n",
      "p1.name=徐國堂\n",
      "p2.name=Robert Hsu\n"
     ]
    }
   ],
   "source": [
    "class Person():\n",
    "    def __init__(self,n:str):\n",
    "        self.name = n\n",
    "    def __repr__(self) -> str:\n",
    "        return f\"我是Person的實體,我的名字是:{self.name}\"\n",
    "p1:Person = Person(\"徐國堂\")\n",
    "print(type(p1))\n",
    "print(f\"p1.name={p1.name}\")\n",
    "\n",
    "p2:Person = Person(\"Robert Hsu\")\n",
    "p2.name\n",
    "print(f\"p2.name={p2.name}\")"
   ]
  },
  {
   "cell_type": "code",
   "execution_count": 57,
   "metadata": {},
   "outputs": [
    {
     "name": "stdout",
     "output_type": "stream",
     "text": [
      "怪8\n",
      "震度9.8\n"
     ]
    }
   ],
   "source": [
    "class Student(Person):\n",
    "    def __init__(self,name:str, chinese:int, english:int, math:int):\n",
    "        super().__init__(n=name)\n",
    "        self.__chinese = chinese\n",
    "        self.__english = english\n",
    "        self.__math = math\n",
    "    @property\n",
    "    def chinese(self):\n",
    "        return self.__chinese\n",
    "    @property\n",
    "    def english(self):\n",
    "        return self.__english\n",
    "    @property\n",
    "    def math(self):\n",
    "        return self.__math\n",
    "    @property\n",
    "    def scores(self):\n",
    "        return self.__chinese + self.__english  + self.__math\n",
    "\n",
    "    #自訂實體的方法(method) \n",
    "    def average(self):\n",
    "        return self.scores/3   \n",
    "\n",
    "    def __repr__(self) -> str:\n",
    "        message = f\"我是Student的實體,我的名字是{self.name} \\n\"\n",
    "        message += f\"國文分數是:{self.chinese}\\n\"\n",
    "        message += f\"英文分數是:{self.english}\\n\"\n",
    "        message += f\"數學分數是:{self.math}\\n\"\n",
    "        return message\n",
    "\n",
    "S1:Student=Student(name=\"怪8\", chinese=89, english=72, math=94)\n",
    "print(S1.name)\n",
    "S2:Student=Student(name=\"震度9.8\",math=65, english=92, chinese=84)\n",
    "print(S2.name)"
   ]
  },
  {
   "cell_type": "code",
   "execution_count": 54,
   "metadata": {},
   "outputs": [
    {
     "name": "stdout",
     "output_type": "stream",
     "text": [
      "我是Person的實體,我的名字是:徐國堂\n",
      "我是Student的實體,我的名字是怪8 \n",
      "國文分數是:89\n",
      "英文分數是:72\n",
      "數學分數是:94\n",
      "\n",
      "我是Person的實體,我的名字是:Robert Hsu\n",
      "我是Student的實體,我的名字是震度9.8 \n",
      "國文分數是:84\n",
      "英文分數是:92\n",
      "數學分數是:65\n",
      "\n"
     ]
    }
   ],
   "source": [
    "print(p1)\n",
    "print(S1)\n",
    "\n",
    "print(p2)\n",
    "print(S2)"
   ]
  },
  {
   "cell_type": "code",
   "execution_count": 58,
   "metadata": {},
   "outputs": [
    {
     "name": "stdout",
     "output_type": "stream",
     "text": [
      "我是Student的實體,我的名字是怪8 \n",
      "國文分數是:89\n",
      "英文分數是:72\n",
      "數學分數是:94\n",
      "\n",
      "總分:255\n",
      "平均:85.0\n"
     ]
    }
   ],
   "source": [
    "#attibute是可以更改內容的\n",
    "#property不可更改內容\n",
    "#S1.chinese =100\n",
    "#S1.english= 100\n",
    "#S1.math = 100\n",
    "print(S1)\n",
    "print(f\"總分:{S1.scores}\") #property\n",
    "print(f\"平均:{S1.average()}\") #method"
   ]
  }
 ],
 "metadata": {
  "kernelspec": {
   "display_name": "venv1",
   "language": "python",
   "name": "python3"
  },
  "language_info": {
   "codemirror_mode": {
    "name": "ipython",
    "version": 3
   },
   "file_extension": ".py",
   "mimetype": "text/x-python",
   "name": "python",
   "nbconvert_exporter": "python",
   "pygments_lexer": "ipython3",
   "version": "3.10.14"
  }
 },
 "nbformat": 4,
 "nbformat_minor": 2
}
