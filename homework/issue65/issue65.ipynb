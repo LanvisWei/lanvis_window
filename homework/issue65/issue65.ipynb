{
 "cells": [
  {
   "cell_type": "code",
   "execution_count": null,
   "metadata": {},
   "outputs": [],
   "source": [
    "students:list[dict] = [\n",
    "    {'name':'robert','chinese':78,'english':92,'math':65},\n",
    "    {'name':'jenny','chinese':78,'english':92,'math':65},\n",
    "    {'name':'alice','chinese':78,'english':92,'math':65}\n",
    "]\n",
    "students"
   ]
  }
 ],
 "metadata": {
  "language_info": {
   "name": "python"
  }
 },
 "nbformat": 4,
 "nbformat_minor": 2
}
